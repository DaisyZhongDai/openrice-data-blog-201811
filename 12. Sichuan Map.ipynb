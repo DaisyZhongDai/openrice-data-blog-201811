{
 "cells": [
  {
   "cell_type": "code",
   "execution_count": 39,
   "metadata": {},
   "outputs": [],
   "source": [
    "import pandas as pd"
   ]
  },
  {
   "cell_type": "code",
   "execution_count": 40,
   "metadata": {},
   "outputs": [],
   "source": [
    "df = pd.read_csv('sichuan.csv')"
   ]
  },
  {
   "cell_type": "code",
   "execution_count": 75,
   "metadata": {},
   "outputs": [
    {
     "data": {
      "text/plain": [
       "numpy.int64"
      ]
     },
     "execution_count": 75,
     "metadata": {},
     "output_type": "execute_result"
    }
   ],
   "source": [
    "type(df['POI_ID'][0])"
   ]
  },
  {
   "cell_type": "code",
   "execution_count": 41,
   "metadata": {},
   "outputs": [],
   "source": [
    "import folium"
   ]
  },
  {
   "cell_type": "code",
   "execution_count": 42,
   "metadata": {},
   "outputs": [],
   "source": [
    "#help(folium.Marker)"
   ]
  },
  {
   "cell_type": "code",
   "execution_count": 43,
   "metadata": {},
   "outputs": [],
   "source": [
    "#df['latitude']"
   ]
  },
  {
   "cell_type": "code",
   "execution_count": 85,
   "metadata": {},
   "outputs": [
    {
     "name": "stdout",
     "output_type": "stream",
     "text": [
      "Location values cannot contain NaNs, got:\n",
      "(nan, nan)\n"
     ]
    },
    {
     "data": {
      "text/html": [
       "\n",
       "        <iframe\n",
       "            width=\"700\"\n",
       "            height=\"400\"\n",
       "            src=\"map.html\"\n",
       "            frameborder=\"0\"\n",
       "            allowfullscreen\n",
       "        ></iframe>\n",
       "        "
      ],
      "text/plain": [
       "<IPython.lib.display.IFrame at 0x106ae1b70>"
      ]
     },
     "execution_count": 85,
     "metadata": {},
     "output_type": "execute_result"
    }
   ],
   "source": [
    "import folium\n",
    "import json\n",
    "# Initialize the map:\n",
    "m = folium.Map(location=[22.362, 114.141], zoom_start=11, tiles='')\n",
    "\n",
    "hk_geojson = json.loads(open('dc_land.lowres.geo.json').read())\n",
    "\n",
    "def style_function_background(feature):\n",
    "    return {\n",
    "        'fillOpacity': 0.2,\n",
    "        'weight': 0.2,\n",
    "        'fillColor': 'blue',\n",
    "        'color': 'blue',\n",
    "    }\n",
    "\n",
    "folium.GeoJson(hk_geojson, style_function=style_function_background).add_to(m)\n",
    "# folium.Marker((114.0002857, 22.4682441)).add_to(m)\n",
    "# folium.Marker((22.4682441, 114.0002857)).add_to(m)\n",
    "\n",
    "def add_marker(x):\n",
    "    try:\n",
    "#         print(x)\n",
    "        folium.Circle(\n",
    "            (x['latitude'], x['longitude']), \n",
    "            radius=500,\n",
    "            fill_opacity=0.2,\n",
    "            fill_color='red',\n",
    "#             color='white',\n",
    "            weight=0\n",
    "        ).add_to(m)\n",
    "    except Exception as e:\n",
    "        print(e)\n",
    "    \n",
    "df.sort_values(by='POI_ID').apply(add_marker, axis=1)\n",
    "\n",
    "# # Save to html\n",
    "m.save('map.html')\n",
    "from IPython.display import IFrame\n",
    "IFrame('map.html', width=700, height=400)"
   ]
  },
  {
   "cell_type": "code",
   "execution_count": 93,
   "metadata": {},
   "outputs": [],
   "source": [
    "from selenium import webdriver\n",
    "browser = webdriver.Chrome()"
   ]
  },
  {
   "cell_type": "code",
   "execution_count": 84,
   "metadata": {},
   "outputs": [
    {
     "data": {
      "text/plain": [
       "True"
      ]
     },
     "execution_count": 84,
     "metadata": {},
     "output_type": "execute_result"
    }
   ],
   "source": [
    "browser.get('http://localhost:8888/view/scraper-examples/open_rice/map.html')\n",
    "browser.save_screenshot('screenshot.png')"
   ]
  },
  {
   "cell_type": "code",
   "execution_count": 87,
   "metadata": {},
   "outputs": [],
   "source": [
    "def plot_scatter_df(df):\n",
    "    import folium\n",
    "    import json\n",
    "    # Initialize the map:\n",
    "    m = folium.Map(location=[22.362, 114.141], zoom_start=11, tiles='')\n",
    "\n",
    "    hk_geojson = json.loads(open('dc_land.lowres.geo.json').read())\n",
    "\n",
    "    def style_function_background(feature):\n",
    "        return {\n",
    "            'fillOpacity': 0.2,\n",
    "            'weight': 0.2,\n",
    "            'fillColor': 'blue',\n",
    "            'color': 'blue',\n",
    "        }\n",
    "\n",
    "    folium.GeoJson(hk_geojson, style_function=style_function_background).add_to(m)\n",
    "    # folium.Marker((114.0002857, 22.4682441)).add_to(m)\n",
    "    # folium.Marker((22.4682441, 114.0002857)).add_to(m)\n",
    "\n",
    "    def add_marker(x):\n",
    "        try:\n",
    "    #         print(x)\n",
    "            folium.Circle(\n",
    "                (x['latitude'], x['longitude']), \n",
    "                radius=500,\n",
    "                fill_opacity=0.2,\n",
    "                fill_color='red',\n",
    "    #             color='white',\n",
    "                weight=0\n",
    "            ).add_to(m)\n",
    "        except Exception as e:\n",
    "            print(e)\n",
    "\n",
    "    df.sort_values(by='POI_ID').apply(add_marker, axis=1)\n",
    "\n",
    "    # # Save to html\n",
    "    m.save('map.html')\n",
    "#     from IPython.display import IFrame\n",
    "#     IFrame('map.html', width=700, height=400)\n"
   ]
  },
  {
   "cell_type": "code",
   "execution_count": 96,
   "metadata": {},
   "outputs": [
    {
     "name": "stdout",
     "output_type": "stream",
     "text": [
      "'latitude'\n",
      "Location values cannot contain NaNs, got:\n",
      "(nan, nan)\n",
      "Location values cannot contain NaNs, got:\n",
      "(nan, nan)\n",
      "Location values cannot contain NaNs, got:\n",
      "(nan, nan)\n",
      "Location values cannot contain NaNs, got:\n",
      "(nan, nan)\n",
      "Location values cannot contain NaNs, got:\n",
      "(nan, nan)\n",
      "Location values cannot contain NaNs, got:\n",
      "(nan, nan)\n",
      "Location values cannot contain NaNs, got:\n",
      "(nan, nan)\n",
      "Location values cannot contain NaNs, got:\n",
      "(nan, nan)\n",
      "Location values cannot contain NaNs, got:\n",
      "(nan, nan)\n",
      "Location values cannot contain NaNs, got:\n",
      "(nan, nan)\n",
      "Location values cannot contain NaNs, got:\n",
      "(nan, nan)\n",
      "Location values cannot contain NaNs, got:\n",
      "(nan, nan)\n",
      "Location values cannot contain NaNs, got:\n",
      "(nan, nan)\n",
      "Location values cannot contain NaNs, got:\n",
      "(nan, nan)\n",
      "Location values cannot contain NaNs, got:\n",
      "(nan, nan)\n",
      "Location values cannot contain NaNs, got:\n",
      "(nan, nan)\n",
      "Location values cannot contain NaNs, got:\n",
      "(nan, nan)\n",
      "Location values cannot contain NaNs, got:\n",
      "(nan, nan)\n",
      "Location values cannot contain NaNs, got:\n",
      "(nan, nan)\n",
      "Location values cannot contain NaNs, got:\n",
      "(nan, nan)\n",
      "Location values cannot contain NaNs, got:\n",
      "(nan, nan)\n",
      "Location values cannot contain NaNs, got:\n",
      "(nan, nan)\n",
      "Location values cannot contain NaNs, got:\n",
      "(nan, nan)\n",
      "Location values cannot contain NaNs, got:\n",
      "(nan, nan)\n",
      "Location values cannot contain NaNs, got:\n",
      "(nan, nan)\n",
      "Location values cannot contain NaNs, got:\n",
      "(nan, nan)\n",
      "Location values cannot contain NaNs, got:\n",
      "(nan, nan)\n",
      "Location values cannot contain NaNs, got:\n",
      "(nan, nan)\n",
      "Location values cannot contain NaNs, got:\n",
      "(nan, nan)\n",
      "Location values cannot contain NaNs, got:\n",
      "(nan, nan)\n",
      "Location values cannot contain NaNs, got:\n",
      "(nan, nan)\n",
      "Location values cannot contain NaNs, got:\n",
      "(nan, nan)\n",
      "Location values cannot contain NaNs, got:\n",
      "(nan, nan)\n",
      "Location values cannot contain NaNs, got:\n",
      "(nan, nan)\n",
      "Location values cannot contain NaNs, got:\n",
      "(nan, nan)\n",
      "Location values cannot contain NaNs, got:\n",
      "(nan, nan)\n",
      "Location values cannot contain NaNs, got:\n",
      "(nan, nan)\n",
      "Location values cannot contain NaNs, got:\n",
      "(nan, nan)\n",
      "Location values cannot contain NaNs, got:\n",
      "(nan, nan)\n",
      "Location values cannot contain NaNs, got:\n",
      "(nan, nan)\n",
      "Location values cannot contain NaNs, got:\n",
      "(nan, nan)\n",
      "Location values cannot contain NaNs, got:\n",
      "(nan, nan)\n",
      "Location values cannot contain NaNs, got:\n",
      "(nan, nan)\n",
      "Location values cannot contain NaNs, got:\n",
      "(nan, nan)\n",
      "Location values cannot contain NaNs, got:\n",
      "(nan, nan)\n",
      "Location values cannot contain NaNs, got:\n",
      "(nan, nan)\n",
      "Location values cannot contain NaNs, got:\n",
      "(nan, nan)\n"
     ]
    }
   ],
   "source": [
    "for i in range(0, len(df), 10):\n",
    "    plot_scatter_df(df.sort_values(by='POI_ID')[:i])\n",
    "    browser.get('http://localhost:8888/view/scraper-examples/open_rice/map.html')\n",
    "    browser.save_screenshot('screenshots/screenshot-{0:03d}.png'.format(i))"
   ]
  },
  {
   "cell_type": "code",
   "execution_count": null,
   "metadata": {},
   "outputs": [],
   "source": []
  }
 ],
 "metadata": {
  "kernelspec": {
   "display_name": "Python 3",
   "language": "python",
   "name": "python3"
  },
  "language_info": {
   "codemirror_mode": {
    "name": "ipython",
    "version": 3
   },
   "file_extension": ".py",
   "mimetype": "text/x-python",
   "name": "python",
   "nbconvert_exporter": "python",
   "pygments_lexer": "ipython3",
   "version": "3.6.4"
  }
 },
 "nbformat": 4,
 "nbformat_minor": 2
}
